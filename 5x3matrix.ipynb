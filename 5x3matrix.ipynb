{
  "nbformat": 4,
  "nbformat_minor": 0,
  "metadata": {
    "colab": {
      "provenance": []
    },
    "kernelspec": {
      "name": "python3",
      "display_name": "Python 3"
    },
    "language_info": {
      "name": "python"
    }
  },
  "cells": [
    {
      "cell_type": "markdown",
      "source": [
        "# Q6) Implement Artificial Neural Network training process in Python by using Forward Propagation, Back Propagation"
      ],
      "metadata": {
        "id": "PZvkxvyVkfJw"
      }
    },
    {
      "cell_type": "code",
      "source": [
        "import numpy as np\n",
        "import tensorflow as tf\n",
        "from tensorflow import keras\n",
        "from tensorflow.keras.models import Sequential\n",
        "from tensorflow.keras.layers import Dense\n",
        "\n",
        "# Data\n",
        "X = np.random.rand(100, 2)\n",
        "y = np.array([[0], [1], [1], [0]] * 25)\n",
        "\n",
        "# Create a sequential model\n",
        "model = Sequential()\n",
        "\n",
        "model.add(Dense(4, activation='sigmoid', input_shape=(2,)))\n",
        "model.add(Dense(1, activation='sigmoid'))\n",
        "\n",
        "# Define the loss function and optimizer\n",
        "loss_fn = keras.losses.BinaryCrossentropy()\n",
        "optimizer = keras.optimizers.Adam()\n",
        "\n",
        "# Iterate through the training data\n",
        "for epoch in range(1000):\n",
        "    with tf.GradientTape() as tape:\n",
        "        predictions = model(X) # Forward propagation\n",
        "        loss_value = loss_fn(y, predictions)\n",
        "    \n",
        "    gradients = tape.gradient(loss_value, model.trainable_variables) # Backward propagation\n",
        "    optimizer.apply_gradients(zip(gradients, model.trainable_variables))\n",
        "\n",
        "    # Print the loss value\n",
        "    print(f\"Epoch {epoch+1}/1000, Loss: {loss_value.numpy()}\")\n",
        "\n",
        "predictions = model.predict(X)\n",
        "weights = model.get_weights()"
      ],
      "metadata": {
        "id": "rBVF0abMkX1X"
      },
      "execution_count": null,
      "outputs": []
    },
    {
      "cell_type": "code",
      "source": [],
      "metadata": {
        "id": "EGU_AkygqfUj"
      },
      "execution_count": null,
      "outputs": []
    }
  ]
}