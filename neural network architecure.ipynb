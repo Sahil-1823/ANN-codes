{
 "cells": [
  {
   "cell_type": "code",
   "execution_count": 1,
   "metadata": {},
   "outputs": [],
   "source": [
    "import pandas as pd\n",
    "import tensorflow as tf\n",
    "from sklearn.datasets import load_iris\n",
    "from sklearn.model_selection import train_test_split\n",
    "from sklearn.preprocessing import StandardScaler\n",
    "from keras.layers import Dense\n",
    "from keras.models import Sequential"
   ]
  },
  {
   "cell_type": "code",
   "execution_count": 2,
   "metadata": {},
   "outputs": [],
   "source": [
    "iris = load_iris()\n",
    "X = iris.data\n",
    "y = iris.target"
   ]
  },
  {
   "cell_type": "code",
   "execution_count": 3,
   "metadata": {},
   "outputs": [],
   "source": [
    "scaler = StandardScaler()\n",
    "X = scaler.fit_transform(X)"
   ]
  },
  {
   "cell_type": "code",
   "execution_count": 4,
   "metadata": {},
   "outputs": [],
   "source": [
    "X_train, X_test, y_train, y_test = train_test_split(X, y, test_size=0.2, random_state=42)\n",
    "X_train, X_val, y_train, y_val = train_test_split(X_train, y_train, test_size=0.2, random_state=42)"
   ]
  },
  {
   "cell_type": "code",
   "execution_count": 5,
   "metadata": {},
   "outputs": [],
   "source": [
    "model = Sequential([\n",
    "    Dense(64, activation='relu', input_shape=(X_train.shape[1],)),\n",
    "    Dense(32, activation='relu'),\n",
    "    Dense(3, activation='softmax')\n",
    "])\n"
   ]
  },
  {
   "cell_type": "code",
   "execution_count": 7,
   "metadata": {},
   "outputs": [
    {
     "name": "stdout",
     "output_type": "stream",
     "text": [
      "Epoch 1/50\n",
      "3/3 [==============================] - 1s 100ms/step - loss: 1.0307 - accuracy: 0.3542 - val_loss: 1.0784 - val_accuracy: 0.2917\n",
      "Epoch 2/50\n",
      "3/3 [==============================] - 0s 19ms/step - loss: 0.9499 - accuracy: 0.4271 - val_loss: 1.0098 - val_accuracy: 0.5000\n",
      "Epoch 3/50\n",
      "3/3 [==============================] - 0s 24ms/step - loss: 0.8820 - accuracy: 0.6042 - val_loss: 0.9543 - val_accuracy: 0.5833\n",
      "Epoch 4/50\n",
      "3/3 [==============================] - 0s 24ms/step - loss: 0.8236 - accuracy: 0.6667 - val_loss: 0.9070 - val_accuracy: 0.5833\n",
      "Epoch 5/50\n",
      "3/3 [==============================] - 0s 20ms/step - loss: 0.7743 - accuracy: 0.6875 - val_loss: 0.8650 - val_accuracy: 0.5833\n",
      "Epoch 6/50\n",
      "3/3 [==============================] - 0s 21ms/step - loss: 0.7287 - accuracy: 0.6875 - val_loss: 0.8273 - val_accuracy: 0.5833\n",
      "Epoch 7/50\n",
      "3/3 [==============================] - 0s 20ms/step - loss: 0.6915 - accuracy: 0.7083 - val_loss: 0.7926 - val_accuracy: 0.5833\n",
      "Epoch 8/50\n",
      "3/3 [==============================] - 0s 19ms/step - loss: 0.6575 - accuracy: 0.7292 - val_loss: 0.7586 - val_accuracy: 0.6667\n",
      "Epoch 9/50\n",
      "3/3 [==============================] - 0s 42ms/step - loss: 0.6266 - accuracy: 0.7708 - val_loss: 0.7259 - val_accuracy: 0.6667\n",
      "Epoch 10/50\n",
      "3/3 [==============================] - 0s 20ms/step - loss: 0.5953 - accuracy: 0.7917 - val_loss: 0.6957 - val_accuracy: 0.7083\n",
      "Epoch 11/50\n",
      "3/3 [==============================] - 0s 17ms/step - loss: 0.5666 - accuracy: 0.8021 - val_loss: 0.6669 - val_accuracy: 0.7083\n",
      "Epoch 12/50\n",
      "3/3 [==============================] - 0s 19ms/step - loss: 0.5397 - accuracy: 0.8125 - val_loss: 0.6397 - val_accuracy: 0.7083\n",
      "Epoch 13/50\n",
      "3/3 [==============================] - 0s 20ms/step - loss: 0.5126 - accuracy: 0.8125 - val_loss: 0.6145 - val_accuracy: 0.7083\n",
      "Epoch 14/50\n",
      "3/3 [==============================] - 0s 18ms/step - loss: 0.4896 - accuracy: 0.8229 - val_loss: 0.5898 - val_accuracy: 0.7500\n",
      "Epoch 15/50\n",
      "3/3 [==============================] - 0s 18ms/step - loss: 0.4682 - accuracy: 0.8229 - val_loss: 0.5654 - val_accuracy: 0.7917\n",
      "Epoch 16/50\n",
      "3/3 [==============================] - 0s 19ms/step - loss: 0.4474 - accuracy: 0.8229 - val_loss: 0.5427 - val_accuracy: 0.7917\n",
      "Epoch 17/50\n",
      "3/3 [==============================] - 0s 22ms/step - loss: 0.4282 - accuracy: 0.8229 - val_loss: 0.5215 - val_accuracy: 0.7917\n",
      "Epoch 18/50\n",
      "3/3 [==============================] - 0s 19ms/step - loss: 0.4102 - accuracy: 0.8229 - val_loss: 0.5017 - val_accuracy: 0.8333\n",
      "Epoch 19/50\n",
      "3/3 [==============================] - 0s 17ms/step - loss: 0.3940 - accuracy: 0.8229 - val_loss: 0.4830 - val_accuracy: 0.8333\n",
      "Epoch 20/50\n",
      "3/3 [==============================] - 0s 29ms/step - loss: 0.3790 - accuracy: 0.8438 - val_loss: 0.4645 - val_accuracy: 0.8333\n",
      "Epoch 21/50\n",
      "3/3 [==============================] - 0s 22ms/step - loss: 0.3648 - accuracy: 0.8438 - val_loss: 0.4467 - val_accuracy: 0.8333\n",
      "Epoch 22/50\n",
      "3/3 [==============================] - 0s 18ms/step - loss: 0.3515 - accuracy: 0.8438 - val_loss: 0.4317 - val_accuracy: 0.8333\n",
      "Epoch 23/50\n",
      "3/3 [==============================] - 0s 23ms/step - loss: 0.3397 - accuracy: 0.8438 - val_loss: 0.4166 - val_accuracy: 0.8333\n",
      "Epoch 24/50\n",
      "3/3 [==============================] - 0s 19ms/step - loss: 0.3279 - accuracy: 0.8646 - val_loss: 0.4027 - val_accuracy: 0.8333\n",
      "Epoch 25/50\n",
      "3/3 [==============================] - 0s 17ms/step - loss: 0.3169 - accuracy: 0.8750 - val_loss: 0.3906 - val_accuracy: 0.8333\n",
      "Epoch 26/50\n",
      "3/3 [==============================] - 0s 21ms/step - loss: 0.3067 - accuracy: 0.8750 - val_loss: 0.3791 - val_accuracy: 0.8750\n",
      "Epoch 27/50\n",
      "3/3 [==============================] - 0s 16ms/step - loss: 0.2968 - accuracy: 0.8854 - val_loss: 0.3683 - val_accuracy: 0.8750\n",
      "Epoch 28/50\n",
      "3/3 [==============================] - 0s 19ms/step - loss: 0.2879 - accuracy: 0.8958 - val_loss: 0.3564 - val_accuracy: 0.8750\n",
      "Epoch 29/50\n",
      "3/3 [==============================] - 0s 19ms/step - loss: 0.2791 - accuracy: 0.9167 - val_loss: 0.3456 - val_accuracy: 0.8750\n",
      "Epoch 30/50\n",
      "3/3 [==============================] - 0s 18ms/step - loss: 0.2708 - accuracy: 0.9167 - val_loss: 0.3386 - val_accuracy: 0.8750\n",
      "Epoch 31/50\n",
      "3/3 [==============================] - 0s 22ms/step - loss: 0.2622 - accuracy: 0.9167 - val_loss: 0.3301 - val_accuracy: 0.8750\n",
      "Epoch 32/50\n",
      "3/3 [==============================] - 0s 16ms/step - loss: 0.2550 - accuracy: 0.9167 - val_loss: 0.3203 - val_accuracy: 0.8750\n",
      "Epoch 33/50\n",
      "3/3 [==============================] - 0s 19ms/step - loss: 0.2476 - accuracy: 0.9271 - val_loss: 0.3141 - val_accuracy: 0.8750\n",
      "Epoch 34/50\n",
      "3/3 [==============================] - 0s 30ms/step - loss: 0.2406 - accuracy: 0.9375 - val_loss: 0.3055 - val_accuracy: 0.8750\n",
      "Epoch 35/50\n",
      "3/3 [==============================] - 0s 22ms/step - loss: 0.2337 - accuracy: 0.9479 - val_loss: 0.3003 - val_accuracy: 0.8750\n",
      "Epoch 36/50\n",
      "3/3 [==============================] - 0s 16ms/step - loss: 0.2274 - accuracy: 0.9583 - val_loss: 0.2928 - val_accuracy: 0.8750\n",
      "Epoch 37/50\n",
      "3/3 [==============================] - 0s 21ms/step - loss: 0.2208 - accuracy: 0.9688 - val_loss: 0.2871 - val_accuracy: 0.8750\n",
      "Epoch 38/50\n",
      "3/3 [==============================] - 0s 18ms/step - loss: 0.2146 - accuracy: 0.9688 - val_loss: 0.2832 - val_accuracy: 0.8750\n",
      "Epoch 39/50\n",
      "3/3 [==============================] - 0s 20ms/step - loss: 0.2085 - accuracy: 0.9792 - val_loss: 0.2802 - val_accuracy: 0.8750\n",
      "Epoch 40/50\n",
      "3/3 [==============================] - 0s 19ms/step - loss: 0.2027 - accuracy: 0.9792 - val_loss: 0.2776 - val_accuracy: 0.8750\n",
      "Epoch 41/50\n",
      "3/3 [==============================] - 0s 18ms/step - loss: 0.1973 - accuracy: 0.9792 - val_loss: 0.2755 - val_accuracy: 0.8750\n",
      "Epoch 42/50\n",
      "3/3 [==============================] - 0s 21ms/step - loss: 0.1921 - accuracy: 0.9792 - val_loss: 0.2696 - val_accuracy: 0.9167\n",
      "Epoch 43/50\n",
      "3/3 [==============================] - 0s 20ms/step - loss: 0.1864 - accuracy: 0.9792 - val_loss: 0.2662 - val_accuracy: 0.9167\n",
      "Epoch 44/50\n",
      "3/3 [==============================] - 0s 18ms/step - loss: 0.1815 - accuracy: 0.9792 - val_loss: 0.2603 - val_accuracy: 0.9167\n",
      "Epoch 45/50\n",
      "3/3 [==============================] - 0s 19ms/step - loss: 0.1764 - accuracy: 0.9792 - val_loss: 0.2563 - val_accuracy: 0.9167\n",
      "Epoch 46/50\n",
      "3/3 [==============================] - 0s 24ms/step - loss: 0.1714 - accuracy: 0.9792 - val_loss: 0.2537 - val_accuracy: 0.9167\n",
      "Epoch 47/50\n",
      "3/3 [==============================] - 0s 20ms/step - loss: 0.1665 - accuracy: 0.9792 - val_loss: 0.2515 - val_accuracy: 0.9167\n",
      "Epoch 48/50\n",
      "3/3 [==============================] - 0s 21ms/step - loss: 0.1617 - accuracy: 0.9792 - val_loss: 0.2488 - val_accuracy: 0.9167\n",
      "Epoch 49/50\n",
      "3/3 [==============================] - 0s 21ms/step - loss: 0.1579 - accuracy: 0.9792 - val_loss: 0.2489 - val_accuracy: 0.8750\n",
      "Epoch 50/50\n",
      "3/3 [==============================] - 0s 16ms/step - loss: 0.1531 - accuracy: 0.9792 - val_loss: 0.2446 - val_accuracy: 0.8750\n"
     ]
    }
   ],
   "source": [
    "model.compile(optimizer='adam', loss='sparse_categorical_crossentropy', metrics=['accuracy'])\n",
    "history = model.fit(X_train, y_train, epochs=50, validation_data=(X_val, y_val))"
   ]
  },
  {
   "cell_type": "code",
   "execution_count": 8,
   "metadata": {},
   "outputs": [
    {
     "name": "stdout",
     "output_type": "stream",
     "text": [
      "1/1 [==============================] - 0s 30ms/step - loss: 0.1458 - accuracy: 0.9667\n",
      "Test loss: 0.1458224356174469\n",
      "Test accuracy: 0.9666666388511658\n"
     ]
    }
   ],
   "source": [
    "test_loss, test_acc = model.evaluate(X_test, y_test)\n",
    "print('Test loss:', test_loss)\n",
    "print('Test accuracy:', test_acc)"
   ]
  }
 ],
 "metadata": {
  "kernelspec": {
   "display_name": "Python 3",
   "language": "python",
   "name": "python3"
  },
  "language_info": {
   "codemirror_mode": {
    "name": "ipython",
    "version": 3
   },
   "file_extension": ".py",
   "mimetype": "text/x-python",
   "name": "python",
   "nbconvert_exporter": "python",
   "pygments_lexer": "ipython3",
   "version": "3.11.0"
  },
  "orig_nbformat": 4
 },
 "nbformat": 4,
 "nbformat_minor": 2
}
