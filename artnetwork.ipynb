{
 "cells": [
  {
   "cell_type": "code",
   "execution_count": 1,
   "id": "076c5a43",
   "metadata": {},
   "outputs": [],
   "source": [
    " \n",
    "import numpy as np\n",
    "import tensorflow as tf\n",
    "import matplotlib.pyplot as plt\n",
    "from sklearn.linear_model import Perceptron\n",
    "from sklearn.datasets import make_classification\n",
    "from sklearn.neural_network import MLPClassifier\n",
    "\n"
   ]
  },
  {
   "cell_type": "code",
   "execution_count": 2,
   "id": "d8952fce",
   "metadata": {},
   "outputs": [],
   "source": [
    "\n",
    "\n",
    "class ARTNeuralNetwork:\n",
    "    def __init__(self, num_features, max_categories=100, rho=0.5, beta=1.0):\n",
    "        self.num_features = num_features\n",
    "        self.max_categories = max_categories\n",
    "        self.rho = rho\n",
    "        self.beta = beta\n",
    "\n",
    "        self.categories = np.ones((max_categories, num_features))\n",
    "\n",
    "    def compute_similarity(self, pattern):\n",
    "        return np.sum(self.categories * pattern, axis=1) / (self.beta + np.sum(self.categories, axis=1))\n",
    "\n",
    "    def learn(self, patterns):\n",
    "        for p in patterns:\n",
    "            pattern = np.array(p)\n",
    "            while True:\n",
    "                similarity = self.compute_similarity(pattern)\n",
    "                if np.max(similarity) < self.rho:\n",
    "                    # If no category is similar enough, create a new one\n",
    "                    self.categories = np.vstack((self.categories, pattern))\n",
    "                    break\n",
    "                else:\n",
    "                    # Update the most similar category\n",
    "                    winner = np.argmax(similarity)\n",
    "                    self.categories[winner] = self.beta * self.categories[winner] + (1 - self.beta) * pattern\n",
    "                    if np.sum(self.categories[winner]) / np.sum(pattern) >= self.rho:\n",
    "                        break\n",
    "                    else:\n",
    "                        self.categories = np.delete(self.categories, (winner), axis=0)\n",
    "        return self.categories\n",
    "\n",
    "    def predict(self, patterns):\n",
    "        predictions = []\n",
    "        for p in patterns:\n",
    "            pattern = np.array(p)\n",
    "            similarity = self.compute_similarity(pattern)\n",
    "            winner = np.argmax(similarity)\n",
    "            predictions.append(winner)\n",
    "        return predictions\n",
    "\n",
    " "
   ]
  },
  {
   "cell_type": "code",
   "execution_count": 4,
   "id": "29f79a63",
   "metadata": {},
   "outputs": [
    {
     "name": "stdout",
     "output_type": "stream",
     "text": [
      "Categories after learning: [[1. 1. 1. 1. 1.]\n",
      " [1. 1. 1. 1. 1.]\n",
      " [1. 1. 1. 1. 1.]\n",
      " [1. 1. 1. 1. 1.]\n",
      " [1. 0. 0. 1. 1.]\n",
      " [1. 0. 0. 1. 0.]\n",
      " [0. 1. 1. 0. 0.]\n",
      " [0. 0. 1. 1. 0.]]\n",
      "Predicted categories: [4, 5, 6, 7]\n"
     ]
    }
   ],
   "source": [
    " \n",
    "\n",
    "\n",
    "        \n",
    "# Define binary patterns\n",
    "patterns = [\n",
    "    [1, 0, 0, 1, 1],\n",
    "    [1, 0, 0, 1, 0],\n",
    "    [0, 1, 1, 0, 0],\n",
    "    [0, 0, 1, 1, 0],\n",
    "]\n",
    "\n",
    "# Initialize ART1 network\n",
    "art1 = ARTNeuralNetwork(num_features=5, max_categories=4, rho=0.6, beta=0.5)\n",
    "\n",
    "# Learn patterns\n",
    "categories = art1.learn(patterns)\n",
    "print(f\"Categories after learning: {categories}\")\n",
    "\n",
    "# Predict categories for patterns\n",
    "predictions = art1.predict(patterns)\n",
    "print(f\"Predicted categories: {predictions}\")\n"
   ]
  },
  {
   "cell_type": "code",
   "execution_count": null,
   "id": "9f3c9a72",
   "metadata": {},
   "outputs": [],
   "source": []
  }
 ],
 "metadata": {
  "kernelspec": {
   "display_name": "Python 3 (ipykernel)",
   "language": "python",
   "name": "python3"
  },
  "language_info": {
   "codemirror_mode": {
    "name": "ipython",
    "version": 3
   },
   "file_extension": ".py",
   "mimetype": "text/x-python",
   "name": "python",
   "nbconvert_exporter": "python",
   "pygments_lexer": "ipython3",
   "version": "3.10.9"
  }
 },
 "nbformat": 4,
 "nbformat_minor": 5
}
