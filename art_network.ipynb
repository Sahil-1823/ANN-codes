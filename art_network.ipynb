{
 "cells": [
  {
   "cell_type": "code",
   "execution_count": null,
   "id": "66b2ae8e",
   "metadata": {},
   "outputs": [],
   "source": [
    " \n",
    "import numpy as np\n",
    "import tensorflow as tf\n",
    "import matplotlib.pyplot as plt\n",
    "from sklearn.linear_model import Perceptron\n",
    "from sklearn.datasets import make_classification\n",
    "from sklearn.neural_network import MLPClassifier\n",
    "\n",
    "class PerceptronPlotter:\n",
    "    def __init__(self, random_seed=42):\n",
    "        self.random_seed = random_seed\n",
    "        self.X_train = None\n",
    "        self.y_train = None\n",
    "        self.clf = None\n",
    "\n",
    "    def generate_data(self):\n",
    "        np.random.seed(self.random_seed)\n",
    "        self.X_train, self.y_train = make_classification(n_samples=100, n_features=2, n_informative=2, n_redundant=0, n_clusters_per_class=1)\n",
    "\n",
    "    def train_classifier(self):\n",
    "        self.clf = Perceptron().fit(self.X_train, self.y_train)\n",
    "\n",
    "    def plot_decision_regions(self):\n",
    "        xx, yy = np.meshgrid(np.arange(self.X_train[:, 0].min() - 1, self.X_train[:, 0].max() + 1, 0.02),\n",
    "                             np.arange(self.X_train[:, 1].min() - 1, self.X_train[:, 1].max() + 1, 0.02))\n",
    "        Z = self.clf.predict(np.c_[xx.ravel(), yy.ravel()]).reshape(xx.shape)\n",
    "\n",
    "        plt.figure(figsize=(8, 6))\n",
    "        plt.contourf(xx, yy, Z, alpha=0.3, cmap=plt.cm.Paired)\n",
    "        plt.scatter(self.X_train[:, 0], self.X_train[:, 1], c=self.y_train, cmap=plt.cm.Paired)\n",
    "        plt.xlabel('Feature 1')\n",
    "        plt.ylabel('Feature 2')\n",
    "        plt.title('Perceptron Decision Regions')\n",
    "        plt.show()\n",
    "\n",
    "    def run(self):\n",
    "        self.generate_data()\n",
    "        self.train_classifier()\n",
    "        self.plot_decision_regions()\n",
    "\n",
    "plotter = PerceptronPlotter(random_seed=44)\n",
    "plotter.run()\n"
   ]
  }
 ],
 "metadata": {
  "kernelspec": {
   "display_name": "Python 3 (ipykernel)",
   "language": "python",
   "name": "python3"
  },
  "language_info": {
   "codemirror_mode": {
    "name": "ipython",
    "version": 3
   },
   "file_extension": ".py",
   "mimetype": "text/x-python",
   "name": "python",
   "nbconvert_exporter": "python",
   "pygments_lexer": "ipython3",
   "version": "3.10.9"
  }
 },
 "nbformat": 4,
 "nbformat_minor": 5
}
